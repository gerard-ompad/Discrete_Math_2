{
 "cells": [
  {
   "cell_type": "markdown",
   "id": "11c2c5b6",
   "metadata": {},
   "source": [
    "# Assignment Lecture 1\n",
    "\n"
   ]
  },
  {
   "cell_type": "markdown",
   "id": "aff2b667",
   "metadata": {},
   "source": [
    "Garcia, James Matthew C. <br> BSCS - 1 <br>\n",
    "***"
   ]
  },
  {
   "cell_type": "markdown",
   "id": "ebbedbdc",
   "metadata": {},
   "source": [
    "1. Recall the definition of a rational number, denoted as $\\mathbb{Q}$. Prove that the Euler's number $e = \\Sigma_{k=0}^\\infty \\frac{1}{k!} \\notin \\mathbb{Q}$. A factorial is defined as $k! = (k)(k-1)(k-2)(k-3)..., \\forall k \\in \\mathbb{Z}^+$, note that $0! = 1$. Furthermore, a sum notation $\\Sigma_{k=0}^\\infty k = 0+ 1 + 2 + 3 +....+...$"
   ]
  },
  {
   "cell_type": "markdown",
   "id": "9738db87",
   "metadata": {},
   "source": [
    "**Solution**: <br>\n",
    "Proof by Contradiction: <br><br>\n",
    "Let $p\\in \\mathbb{Z}$ and $q \\in \\mathbb{N}$ such that $e = \\frac{p}{q}$ <br><br>\n",
    "\n",
    "Then,\n",
    "\n",
    "$$\\frac{p}{q} = \\frac{1}{0!} + \\frac{1}{1!} + \\frac{1}{2!} + . . . + \\frac{1}{q!} $$ <br><br>\n",
    "$$\\frac{p}{q} - \\frac{1}{0!} - . . . - \\frac{1}{q!} = \\frac{1}{(q + 1)!} + . . .  $$ <br><br>\n",
    "$$\\frac{p\\cdot q!}{q} - \\frac{q!}{0!} - . . . - \\frac{q!}{q!} = \\frac{q!}{(q + 1)!} + \\frac{q!}{(q + 2)!} + ... $$ <br><br>\n",
    "$$\\frac{p\\cdot q!}{q} - \\frac{q!}{0!} - . . . - \\frac{q!}{q!} = \\frac{q!}{(q + 1)q!} + \\frac{q!}{(q + 2)(q + 1)q!} + ...$$ <br><br>\n",
    "$$\\frac{p\\cdot q!}{q} - \\frac{q!}{0!} - . . . - \\frac{q!}{q!} = \\frac{1}{q + 1} + \\frac{1}{(q + 2)(q + 1)} + ... $$ <br><br>\n",
    "Is a contradiction. Hence $e$ is irrational.\n",
    "***"
   ]
  },
  {
   "cell_type": "markdown",
   "id": "712c083e",
   "metadata": {},
   "source": [
    "2. Prove Minkowski's Inequality for sums, $\\forall \\ p>1, (a_k, b_k)>0$ &nbsp;: &nbsp; $\\left( \\sum_{k=1}^n |a_k + b_k|^p \\right)^\\frac{1}{p}$ $\\leq$ $\\left( \\sum_{k=1}^n |a_k|^p \\right)^\\frac{1}{p}$ + $\\left( \\sum_{k=1}^n |b_k|^p \\right)^\\frac{1}{p}$\n",
    "\n"
   ]
  },
  {
   "cell_type": "markdown",
   "id": "ba81be01",
   "metadata": {},
   "source": [
    "\n",
    "**Solution:** <br>\n",
    "Proof by Contradiction:\n",
    "\n",
    "Let: <br>\n",
    "$$[ \\left( \\sum_{k=1}^n |a_k + b_k|^p \\right)^{\\frac{1}{p}} > \\left( \\sum_{k=1}^n |a_k|p\\right){\\frac{1}{p}} + \\left( \\sum_{k=1}^n |b_k|p\\right){\\frac{1}{p}} ]$$\n",
    "\n",
    "$$[ \\sum_{k=1}^n |a_k + b_k|^p > \\left( \\sum_{k=1}^n |a_k|^p\\right) + \\left( \\sum_{k=1}^n |b_k|^p\\right) ]$$ <br>\n",
    "\n",
    "Now consider the function $(f(x) = |x|^p)$. By applying Hölder’s Inequality, we have: <br><br>\n",
    "$$[ \\sum_{k=1}^n |a_k + b_k|^p \\leq \\left( \\sum_{k=1}^n |a_k|p\\right){\\frac{1}{p}} \\left( \\sum_{k=1}^n |b_k|p\\right){\\frac{1}{p}} ]$$<br>\n",
    "\n",
    "We have a contradiction since Hölder's Inequality is contradicted by our assumption, which states that the left side of the inequality is greater than the right side. Hence, $$[ \\left( \\sum_{k=1}^n |a_k + b_k|^p \\right)^{\\frac{1}{p}} \\leq \\left( \\sum_{k=1}^n |a_k|p\\right){\\frac{1}{p}} + \\left( \\sum_{k=1}^n |b_k|p\\right){\\frac{1}{p}} ]$$, is True.\n",
    "***"
   ]
  },
  {
   "cell_type": "markdown",
   "id": "acbdb687",
   "metadata": {},
   "source": [
    "3. Prove the triangle inequality $|x+y| \\leq |x| + |y|, \\forall (x,y) \\in \\mathbb{R}$ <br><br>\n",
    "\n",
    "**Solution**:<br><br>\n",
    "Assume $x \\geq 0$ and $y < 0$. <br><br>\n",
    "Then, $|x+y| = -(x+y)$, since $x+y < 0$.<br><br>\n",
    "Also, $|x| = x$ and $|y| = -y$.<br><br>\n",
    "We need to show that $-(x+y) \\leq x - y$.<br><br>\n",
    "Multiplying both sides by $-1$, we get: $x+y \\geq x-(-y) = x+y$, which is always true.<br><br>\n",
    "Since the inequality holds for both cases, we have proved the triangle inequality:\n",
    "$|x+y| \\leq |x| + |y|$ for all $(x,y) \\in \\mathbb{R}$.\n",
    "***"
   ]
  },
  {
   "cell_type": "markdown",
   "id": "111d0d76",
   "metadata": {},
   "source": [
    "4. Prove Sedrakayan's Lemma $\\forall u_i, v_i \\in \\mathbb{R}^+$: <br>\n",
    "$$\\begin{gather} \\frac{(\\Sigma_{i=1}^n u_i)^2}{\\Sigma_{i=1}^n v_i} \\leq \\Sigma_{i=1}^n \\frac{(u_i)^2}{v_i}\\end{gather}$$\n",
    "\n",
    "**Solution**:<br><br>\n",
    " For all $u_i, v_i \\in \\mathbb{R}_+$, we have:\n",
    " \n",
    "$$\\sum_{i=1}^n u_i v_i \\leq \\left(\\sum_{i=1}^n u_i^2\\right)^{1/2} \\left(\\sum_{i=1}^n v_i^2\\right)^{1/2}$$\n",
    "\n",
    "Proof:\n",
    "\n",
    "Let $u = (u_1, u_2, \\ldots, u_n)$ and $v = (v_1, v_2, \\ldots, v_n)$ be vectors in $\\mathbb{R}^n_+$.\n",
    "Then, we can use the Cauchy-Schwarz inequality, which states that for any vectors $x, y \\in \\mathbb{R}^n$, we have:\n",
    "\n",
    "$$\\langle x, y \\rangle \\leq |x| |y|$$\n",
    "\n",
    "where $\\langle x, y \\rangle$ is the dot product of $x$ and $y$, and $|x|$ and $|y|$ are the Euclidean norms of $x$ and $y$, respectively.\n",
    "Applying the Cauchy-Schwarz inequality to $u$ and $v$, we get:\n",
    "\n",
    "$$\\langle u, v \\rangle \\leq |u| |v|$$\n",
    "Now, we can substitute the definitions:\n",
    "\n",
    "$$\\langle u, v \\rangle = \\sum_{i=1}^n u_i v_i$$\n",
    "$$|u| = \\left(\\sum_{i=1}^n u_i^2\\right)^{1/2}$$\n",
    "$$|v| = \\left(\\sum_{i=1}^n v_i^2\\right)^{1/2}$$\n",
    "\n",
    "Substituting these expressions into the Cauchy-Schwarz inequality, we get:\n",
    "\n",
    "$$\\sum_{i=1}^n u_i v_i \\leq \\left(\\sum_{i=1}^n u_i^2\\right)^{1/2} \\left(\\sum_{i=1}^n v_i^2\\right)^{1/2}$$\n",
    "\n",
    "which is precisely Sedrakyan's Lemma.\n",
    "Therefore, we have proved Sedrakyan's Lemma for all $u_i, v_i \\in \\mathbb{R}_+$."
   ]
  },
  {
   "cell_type": "code",
   "execution_count": null,
   "id": "a35d8efd",
   "metadata": {},
   "outputs": [],
   "source": []
  }
 ],
 "metadata": {
  "kernelspec": {
   "display_name": "Python 3 (ipykernel)",
   "language": "python",
   "name": "python3"
  },
  "language_info": {
   "codemirror_mode": {
    "name": "ipython",
    "version": 3
   },
   "file_extension": ".py",
   "mimetype": "text/x-python",
   "name": "python",
   "nbconvert_exporter": "python",
   "pygments_lexer": "ipython3",
   "version": "3.11.7"
  }
 },
 "nbformat": 4,
 "nbformat_minor": 5
}
